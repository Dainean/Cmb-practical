{
 "cells": [
  {
   "cell_type": "code",
   "execution_count": 3,
   "metadata": {
    "collapsed": false,
    "deletable": true,
    "editable": true
   },
   "outputs": [
    {
     "name": "stdout",
     "output_type": "stream",
     "text": [
      "y = 2.22476895172\n",
      "Trcvr = 86.1901320997 K\n",
      "6384648040.41 Gain in milli watts\n",
      "6384648040.41 Gain in milli watts, should be identical\n"
     ]
    },
    {
     "ename": "NameError",
     "evalue": "name 'Gain' is not defined",
     "output_type": "error",
     "traceback": [
      "\u001b[1;31m---------------------------------------------------------------------------\u001b[0m",
      "\u001b[1;31mNameError\u001b[0m                                 Traceback (most recent call last)",
      "\u001b[1;32m<ipython-input-3-2734ab89eb68>\u001b[0m in \u001b[0;36m<module>\u001b[1;34m()\u001b[0m\n\u001b[0;32m     43\u001b[0m \u001b[0mGainCOLD\u001b[0m \u001b[1;33m=\u001b[0m \u001b[0mPcold2\u001b[0m \u001b[1;33m/\u001b[0m \u001b[1;33m(\u001b[0m\u001b[1;33m(\u001b[0m\u001b[0mTcold\u001b[0m\u001b[1;33m+\u001b[0m\u001b[0mTrcvr\u001b[0m\u001b[1;33m)\u001b[0m\u001b[1;33m*\u001b[0m\u001b[0mk\u001b[0m\u001b[1;33m*\u001b[0m\u001b[0mDelta_nu\u001b[0m\u001b[1;33m)\u001b[0m\u001b[1;33m\u001b[0m\u001b[0m\n\u001b[0;32m     44\u001b[0m \u001b[0mprint\u001b[0m\u001b[1;33m(\u001b[0m\u001b[0mGainCOLD\u001b[0m\u001b[1;33m,\u001b[0m \u001b[1;34m'Gain in milli watts, should be identical'\u001b[0m\u001b[1;33m)\u001b[0m\u001b[1;33m\u001b[0m\u001b[0m\n\u001b[1;32m---> 45\u001b[1;33m \u001b[0mTsys\u001b[0m \u001b[1;33m=\u001b[0m \u001b[0mPower_watt\u001b[0m\u001b[1;33m/\u001b[0m\u001b[1;33m(\u001b[0m\u001b[0mk\u001b[0m\u001b[1;33m*\u001b[0m\u001b[0mDelta_nu\u001b[0m\u001b[1;33m*\u001b[0m\u001b[0mGain\u001b[0m\u001b[1;33m)\u001b[0m\u001b[1;33m\u001b[0m\u001b[0m\n\u001b[0m\u001b[0;32m     46\u001b[0m \u001b[0mGaindBm\u001b[0m \u001b[1;33m=\u001b[0m \u001b[1;36m10\u001b[0m\u001b[1;33m*\u001b[0m\u001b[0mnp\u001b[0m\u001b[1;33m.\u001b[0m\u001b[0mlog10\u001b[0m\u001b[1;33m(\u001b[0m\u001b[0mGainHOT\u001b[0m\u001b[1;33m)\u001b[0m\u001b[1;33m\u001b[0m\u001b[0m\n\u001b[0;32m     47\u001b[0m \u001b[0mprint\u001b[0m\u001b[1;33m(\u001b[0m\u001b[0mGaindBm\u001b[0m\u001b[1;33m,\u001b[0m \u001b[1;34m'Gain in dBm'\u001b[0m\u001b[1;33m)\u001b[0m\u001b[1;33m\u001b[0m\u001b[0m\n",
      "\u001b[1;31mNameError\u001b[0m: name 'Gain' is not defined"
     ]
    }
   ],
   "source": [
    "#!/usr/bin/env python\n",
    "# Fitting of cmb measurements\n",
    "# Introduction to Radio Astronomy 2017, By Sander Verdult\n",
    "#Datasets 1, 7 , 10\n",
    "import numpy as np\n",
    "import matplotlib.pyplot as plt\n",
    "#from kapteyn import kmpfit\n",
    "\n",
    "#Load data set\n",
    "Angle, Power = np.loadtxt('data1.txt', skiprows=1, comments='#', unpack=True)\n",
    "#Powers\n",
    "Pcold = (Power[0]+Power[-1])/2   # mdB +- 0.002\n",
    "Phot = (Power[1]+Power[-2])/2    # mdB +- 0.002  +/- 0.02/np.sqrt(8)\n",
    "Phot2 = 10**(Phot/10)            # Convert from db to mw \n",
    "Pcold2 = 10**(Pcold/10)          # Convert from db to mw\n",
    "Power_watt = 10**(Power/10)      # Convert frm db to mw\n",
    "#Errors\n",
    "P_error = 0.02/np.sqrt(8) #dBm\n",
    "T_error = 0.1 #K\n",
    "#temperatures\n",
    "Thot = 4.5+273.16 #K sigma = 0.1 K\n",
    "Tcold = 77.355 #k sigma = 0.1 K\n",
    "Tatm = 4.5+273.16 #K\n",
    "#angle\n",
    "Z_Angle = Angle-90\n",
    "\n",
    "\n",
    "#constants\n",
    "Delta_nu = 1*10**9             #Bandwidth (1 Ghz)\n",
    "T_R = 145.93                   #?\n",
    "k = 1.38064852*10**(-23)     #Boltzmann constant 1.38064852(79)×10−23\tJ⋅K−1\n",
    "Tau_zen = 0.01               #Tau at Zenith (assumed)\n",
    "\n",
    "#Calculated receiver temperature\n",
    "y = (10**(Phot/10))/(10**(Pcold/10))  # y factor\n",
    "print('y =',y)\n",
    "Trcvr = (Thot-(Tcold*y))/(y-1)  #receiver temperature in K\n",
    "print('Trcvr =',Trcvr, 'K')\n",
    "\n",
    "#calculate Gain\n",
    "GainHOT = Phot2 / ((Thot+Trcvr)*k*Delta_nu)\n",
    "print(GainHOT,'Gain in milli watts')\n",
    "GainCOLD = Pcold2 / ((Tcold+Trcvr)*k*Delta_nu)\n",
    "print(GainCOLD, 'Gain in milli watts, should be identical')\n",
    "Tsys = Power_watt/(k*Delta_nu*Gain)\n",
    "GaindBm = 10*np.log10(GainHOT)\n",
    "print(GaindBm, 'Gain in dBm')\n",
    "GaindBW = GaindBm - 30\n",
    "print(GaindBW, 'Gain in DbW')\n",
    "\n",
    "\n",
    "#### Start fitting ####\n",
    "#Tsys = Tcmb*np.e**(-Tau0/cos(z))+Tatm(1-np.e**(Tau0/cos(z))) + trcvr\n",
    "#Model for the system\n",
    "def model(p, x):   # The model that should represent the data\n",
    "    Tcmb,Tau0 = p   # p == (a,b)\n",
    "    y = Tcmb*np.exp(-Tau0/cos(x)) + Tatm(1-np.exp(-Tau0/cos(x))) + Trcvr # x is explanatory variable\n",
    "    return y\n",
    "\n",
    "def residuals(p, data):  # Residuals function needed by kmpfit\n",
    "   x, y , err= data          # The values for x, y and weights\n",
    "   Tcmb,Tau0 = p         # Parameters which are adjusted by kmpfit\n",
    "   return (y-(Tcmb*np.exp(-Tau0/cos(x))+Tatm(1-np.exp(Tau0/cos(x))) + Trcvr)/err)\n",
    "\n",
    "\n",
    "        \n",
    "paramsinitial = [2.7, 0.01]\n",
    "fitobj = kmpfit.Fitter(residuals=residuals, data=(Z_Angle[2:-2],Tsys[2:-2]))\n",
    "fitobj.fit(params0=paramsinitial)\n",
    "\n",
    "print( \"\\nFit status kmpfit:\")\n",
    "print( \"====================\")\n",
    "print( \"Best-fit parameters:        \", fitobj.params)\n",
    "print( \"Covariance errors:          \", fitobj.xerror)\n",
    "print( \"Standard errors             \", fitobj.stderr)\n",
    "print( \"Chi^2 min:                  \", fitobj.chi2_min)\n",
    "print( \"Reduced Chi^2:              \", fitobj.rchi2_min)\n",
    "print( \"Iterations:                 \", fitobj.niter)\n",
    "print( \"Number of free pars.:       \", fitobj.nfree)\n",
    "print( \"Number of function calls:   \", fitobj.nfev)\n",
    "print( \"Degrees of freedom:         \", fitobj.dof)\n",
    "print( \"Number of pegged pars.:   \", fitobj.npegged)\n",
    "print( \"Covariance matrix:\\n\", fitobj.covar)\n",
    "##########################\n",
    "\n",
    "\n",
    "############# Plot things ################################\n",
    "fig = plt.figure()\n",
    "frame1 = fig.add_subplot(1,1,1)\n",
    "\n",
    "#lables and titles\n",
    "frame1.set_title(\"System temperature as a function of Zenith temperature\")    \n",
    "frame1.set_xlabel('# Angle (deg from Zenith)')\n",
    "frame1.set_ylabel('Temperature (Kelvin)')\n",
    "\n",
    "#plot lines\n",
    "frame1.plot(Z_Angle[2:-2],Tsys[2:-2], c='r', label='Measurements')\n",
    "frame1.axhline(Trcvr, c='b', label='Receiver Temperature')\n",
    "\n",
    "#Show legend\n",
    "leg = frame1.legend()\n",
    "#execute\n",
    "plt.show()\n",
    "###################################################\n",
    "\n",
    "\n",
    "#\"\"\"\n",
    "#Gain Directivity = 4*pi / d ohm) \n",
    "#Fit guassian, Find Gain of the horn\n",
    "#\"\"\""
   ]
  },
  {
   "cell_type": "code",
   "execution_count": 2,
   "metadata": {},
   "outputs": [
    {
     "ename": "FileNotFoundError",
     "evalue": "[Errno 2] No such file or directory: 'model1d_gauss.dat'",
     "output_type": "error",
     "traceback": [
      "\u001b[1;31m---------------------------------------------------------------------------\u001b[0m",
      "\u001b[1;31mFileNotFoundError\u001b[0m                         Traceback (most recent call last)",
      "\u001b[1;32m<ipython-input-2-12f571a08c74>\u001b[0m in \u001b[0;36m<module>\u001b[1;34m()\u001b[0m\n\u001b[0;32m      6\u001b[0m \u001b[1;32mimport\u001b[0m \u001b[0mmatplotlib\u001b[0m\u001b[1;33m.\u001b[0m\u001b[0mpyplot\u001b[0m \u001b[1;32mas\u001b[0m \u001b[0mplt\u001b[0m\u001b[1;33m\u001b[0m\u001b[0m\n\u001b[0;32m      7\u001b[0m \u001b[1;33m\u001b[0m\u001b[0m\n\u001b[1;32m----> 8\u001b[1;33m \u001b[0mdata\u001b[0m \u001b[1;33m=\u001b[0m \u001b[0mloadtxt\u001b[0m\u001b[1;33m(\u001b[0m\u001b[1;34m'model1d_gauss.dat'\u001b[0m\u001b[1;33m)\u001b[0m\u001b[1;33m\u001b[0m\u001b[0m\n\u001b[0m\u001b[0;32m      9\u001b[0m \u001b[0mx\u001b[0m \u001b[1;33m=\u001b[0m \u001b[0mdata\u001b[0m\u001b[1;33m[\u001b[0m\u001b[1;33m:\u001b[0m\u001b[1;33m,\u001b[0m \u001b[1;36m0\u001b[0m\u001b[1;33m]\u001b[0m\u001b[1;33m\u001b[0m\u001b[0m\n\u001b[0;32m     10\u001b[0m \u001b[0my\u001b[0m \u001b[1;33m=\u001b[0m \u001b[0mdata\u001b[0m\u001b[1;33m[\u001b[0m\u001b[1;33m:\u001b[0m\u001b[1;33m,\u001b[0m \u001b[1;36m1\u001b[0m\u001b[1;33m]\u001b[0m\u001b[1;33m\u001b[0m\u001b[0m\n",
      "\u001b[1;32mC:\\ProgramData\\Anaconda3\\lib\\site-packages\\numpy\\lib\\npyio.py\u001b[0m in \u001b[0;36mloadtxt\u001b[1;34m(fname, dtype, comments, delimiter, converters, skiprows, usecols, unpack, ndmin)\u001b[0m\n\u001b[0;32m    896\u001b[0m                 \u001b[0mfh\u001b[0m \u001b[1;33m=\u001b[0m \u001b[0miter\u001b[0m\u001b[1;33m(\u001b[0m\u001b[0mopen\u001b[0m\u001b[1;33m(\u001b[0m\u001b[0mfname\u001b[0m\u001b[1;33m,\u001b[0m \u001b[1;34m'U'\u001b[0m\u001b[1;33m)\u001b[0m\u001b[1;33m)\u001b[0m\u001b[1;33m\u001b[0m\u001b[0m\n\u001b[0;32m    897\u001b[0m             \u001b[1;32melse\u001b[0m\u001b[1;33m:\u001b[0m\u001b[1;33m\u001b[0m\u001b[0m\n\u001b[1;32m--> 898\u001b[1;33m                 \u001b[0mfh\u001b[0m \u001b[1;33m=\u001b[0m \u001b[0miter\u001b[0m\u001b[1;33m(\u001b[0m\u001b[0mopen\u001b[0m\u001b[1;33m(\u001b[0m\u001b[0mfname\u001b[0m\u001b[1;33m)\u001b[0m\u001b[1;33m)\u001b[0m\u001b[1;33m\u001b[0m\u001b[0m\n\u001b[0m\u001b[0;32m    899\u001b[0m         \u001b[1;32melse\u001b[0m\u001b[1;33m:\u001b[0m\u001b[1;33m\u001b[0m\u001b[0m\n\u001b[0;32m    900\u001b[0m             \u001b[0mfh\u001b[0m \u001b[1;33m=\u001b[0m \u001b[0miter\u001b[0m\u001b[1;33m(\u001b[0m\u001b[0mfname\u001b[0m\u001b[1;33m)\u001b[0m\u001b[1;33m\u001b[0m\u001b[0m\n",
      "\u001b[1;31mFileNotFoundError\u001b[0m: [Errno 2] No such file or directory: 'model1d_gauss.dat'"
     ]
    }
   ],
   "source": []
  },
  {
   "cell_type": "code",
   "execution_count": null,
   "metadata": {},
   "outputs": [],
   "source": []
  },
  {
   "cell_type": "code",
   "execution_count": 2,
   "metadata": {
    "collapsed": false,
    "deletable": true,
    "editable": true
   },
   "outputs": [
    {
     "ename": "NameError",
     "evalue": "name 'dBmW' is not defined",
     "output_type": "error",
     "traceback": [
      "\u001b[1;31m---------------------------------------------------------------------------\u001b[0m",
      "\u001b[1;31mNameError\u001b[0m                                 Traceback (most recent call last)",
      "\u001b[1;32m<ipython-input-2-9272642efb67>\u001b[0m in \u001b[0;36m<module>\u001b[1;34m()\u001b[0m\n\u001b[1;32m----> 1\u001b[1;33m \u001b[0mp\u001b[0m\u001b[1;33m[\u001b[0m\u001b[0mmW\u001b[0m\u001b[1;33m]\u001b[0m\u001b[1;33m=\u001b[0m \u001b[1;36m10\u001b[0m\u001b[1;33m**\u001b[0m\u001b[1;33m(\u001b[0m\u001b[1;33m[\u001b[0m\u001b[0mdBmW\u001b[0m\u001b[1;33m/\u001b[0m\u001b[1;36m10\u001b[0m\u001b[1;33m]\u001b[0m\u001b[1;33m)\u001b[0m\u001b[1;33m\u001b[0m\u001b[0m\n\u001b[0m\u001b[0;32m      2\u001b[0m \u001b[1;33m\u001b[0m\u001b[0m\n",
      "\u001b[1;31mNameError\u001b[0m: name 'dBmW' is not defined"
     ]
    }
   ],
   "source": [
    "p[mW]= 10**([dBmW/10])  \n",
    "\n"
   ]
  },
  {
   "cell_type": "code",
   "execution_count": null,
   "metadata": {
    "collapsed": false,
    "deletable": true,
    "editable": true
   },
   "outputs": [],
   "source": [
    "(Power[0]+Power[-1])/2"
   ]
  },
  {
   "cell_type": "code",
   "execution_count": null,
   "metadata": {
    "collapsed": false
   },
   "outputs": [],
   "source": [
    "Power[2:-2]"
   ]
  },
  {
   "cell_type": "code",
   "execution_count": null,
   "metadata": {
    "collapsed": false
   },
   "outputs": [],
   "source": [
    "Power[-2]"
   ]
  },
  {
   "cell_type": "code",
   "execution_count": null,
   "metadata": {
    "collapsed": true
   },
   "outputs": [],
   "source": []
  }
 ],
 "metadata": {
  "anaconda-cloud": {},
  "kernelspec": {
   "display_name": "Python 3",
   "language": "python",
   "name": "python3"
  },
  "language_info": {
   "codemirror_mode": {
    "name": "ipython",
    "version": 3
   },
   "file_extension": ".py",
   "mimetype": "text/x-python",
   "name": "python",
   "nbconvert_exporter": "python",
   "pygments_lexer": "ipython3",
   "version": "3.6.3"
  }
 },
 "nbformat": 4,
 "nbformat_minor": 2
}
