{
 "cells": [
  {
   "cell_type": "markdown",
   "metadata": {},
   "source": [
    "#LMFIT guide"
   ]
  },
  {
   "cell_type": "code",
   "execution_count": 1,
   "metadata": {},
   "outputs": [],
   "source": [
    "from numpy import sqrt, pi, exp, linspace, random\n",
    "\n",
    "def gaussian(x, amp, cen, wid):\n",
    "    return amp * exp(-(x-cen)**2 /wid)"
   ]
  },
  {
   "cell_type": "code",
   "execution_count": 5,
   "metadata": {},
   "outputs": [
    {
     "name": "stdout",
     "output_type": "stream",
     "text": [
      "[ 2.38964385  0.2388584   1.46887594]\n"
     ]
    }
   ],
   "source": [
    "from scipy.optimize import curve_fit\n",
    "\n",
    "x = linspace(-10,10, 101)\n",
    "y = gaussian(x, 2.33, 0.21, 1.51) + random.normal(0, 0.2, len(x))\n",
    "\n",
    "init_vals = [1, 0, 1]     # for [amp, cen, wid]\n",
    "best_vals, covar = curve_fit(gaussian, x, y, p0=init_vals)\n",
    "print(best_vals)"
   ]
  },
  {
   "cell_type": "code",
   "execution_count": 6,
   "metadata": {},
   "outputs": [
    {
     "name": "stdout",
     "output_type": "stream",
     "text": [
      "[[Fit Statistics]]\n",
      "    # function evals   = 85\n",
      "    # data points      = 1001\n",
      "    # variables        = 4\n",
      "    chi-square         = 498.812\n",
      "    reduced chi-square = 0.500\n",
      "    Akaike info crit   = -689.223\n",
      "    Bayesian info crit = -669.587\n",
      "[[Variables]]\n",
      "    amp:      13.9121944 +/- 0.141202 (1.01%) (init= 13)\n",
      "    period:   5.48507044 +/- 0.026664 (0.49%) (init= 2)\n",
      "    shift:    0.16203676 +/- 0.014056 (8.67%) (init= 0)\n",
      "    decay:    0.03264538 +/- 0.000380 (1.16%) (init= 0.02)\n",
      "[[Correlations]] (unreported correlations are <  0.100)\n",
      "    C(period, shift)             =  0.797 \n",
      "    C(amp, decay)                =  0.582 \n",
      "    C(amp, shift)                = -0.297 \n",
      "    C(amp, period)               = -0.243 \n",
      "    C(shift, decay)              = -0.182 \n",
      "    C(period, decay)             = -0.150 \n"
     ]
    }
   ],
   "source": [
    "#!/usr/bin/env python\n",
    "#<examples/doc_withreport.py>\n",
    "\n",
    "from __future__ import print_function\n",
    "from lmfit import Parameters, minimize, fit_report\n",
    "from numpy import random, linspace, pi, exp, sin, sign\n",
    "\n",
    "\n",
    "p_true = Parameters()\n",
    "p_true.add('amp', value=14.0)\n",
    "p_true.add('period', value=5.46)\n",
    "p_true.add('shift', value=0.123)\n",
    "p_true.add('decay', value=0.032)\n",
    "\n",
    "def residual(pars, x, data=None):\n",
    "    vals = pars.valuesdict()\n",
    "    amp =  vals['amp']\n",
    "    per =  vals['period']\n",
    "    shift = vals['shift']\n",
    "    decay = vals['decay']\n",
    "\n",
    "    if abs(shift) > pi/2:\n",
    "        shift = shift - sign(shift)*pi\n",
    "    model = amp * sin(shift + x/per) * exp(-x*x*decay*decay)\n",
    "    if data is None:\n",
    "        return model\n",
    "    return (model - data)\n",
    "\n",
    "n = 1001\n",
    "xmin = 0.\n",
    "xmax = 250.0\n",
    "\n",
    "random.seed(0)\n",
    "\n",
    "noise = random.normal(scale=0.7215, size=n)\n",
    "x     = linspace(xmin, xmax, n)\n",
    "data  = residual(p_true, x) + noise\n",
    "\n",
    "fit_params = Parameters()\n",
    "fit_params.add('amp', value=13.0)\n",
    "fit_params.add('period', value=2)\n",
    "fit_params.add('shift', value=0.0)\n",
    "fit_params.add('decay', value=0.02)\n",
    "\n",
    "out = minimize(residual, fit_params, args=(x,), kws={'data':data})\n",
    "\n",
    "print(fit_report(out))\n",
    "\n",
    "\n",
    "#<end of examples/doc_withreport.py>\n"
   ]
  },
  {
   "cell_type": "code",
   "execution_count": null,
   "metadata": {},
   "outputs": [],
   "source": [
    "#!/usr/bin/env python\n",
    "#<examples/doc_model1.py>\n",
    "from numpy import sqrt, pi, exp, linspace, loadtxt\n",
    "from lmfit import  Model\n",
    "\n",
    "import matplotlib.pyplot as plt\n",
    "\n",
    "data = loadtxt('model1d_gauss.dat')\n",
    "x = data[:, 0]\n",
    "y = data[:, 1]\n",
    "\n",
    "def gaussian(x, amp, cen, wid):\n",
    "    \"1-d gaussian: gaussian(x, amp, cen, wid)\"\n",
    "    return (amp/(sqrt(2*pi)*wid)) * exp(-(x-cen)**2 /(2*wid**2))\n",
    "\n",
    "gmodel = Model(gaussian)\n",
    "result = gmodel.fit(y, x=x, amp=5, cen=5, wid=1)\n",
    "\n",
    "print(result.fit_report())\n",
    "\n",
    "plt.plot(x, y,         'bo')\n",
    "plt.plot(x, result.init_fit, 'k--')\n",
    "plt.plot(x, result.best_fit, 'r-')\n",
    "plt.show()\n",
    "#<end examples/doc_model1.py>"
   ]
  }
 ],
 "metadata": {
  "kernelspec": {
   "display_name": "Python 3",
   "language": "python",
   "name": "python3"
  },
  "language_info": {
   "codemirror_mode": {
    "name": "ipython",
    "version": 3
   },
   "file_extension": ".py",
   "mimetype": "text/x-python",
   "name": "python",
   "nbconvert_exporter": "python",
   "pygments_lexer": "ipython3",
   "version": "3.6.3"
  }
 },
 "nbformat": 4,
 "nbformat_minor": 2
}
