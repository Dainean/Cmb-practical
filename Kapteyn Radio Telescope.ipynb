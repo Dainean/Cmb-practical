{
 "cells": [
  {
   "cell_type": "code",
   "execution_count": 4,
   "metadata": {
    "collapsed": false,
    "deletable": true,
    "editable": true
   },
   "outputs": [
    {
     "name": "stdout",
     "output_type": "stream",
     "text": [
      "y = 1.8967059212111446\n",
      "Trcvr = 147.25040879218284 K\n",
      "1529367.7239347438 Gain in watts\n",
      "91.8451192052 gain in Dbm\n"
     ]
    },
    {
     "data": {
      "image/png": "[encoded data removed]",
      "text/plain": [
       "<matplotlib.figure.Figure at 0x7fc54c7be198>"
      ]
     },
     "metadata": {},
     "output_type": "display_data"
    }
   ],
   "source": [
    "#!/usr/bin/env python\n",
    "# Fitting of cmb measurements\n",
    "from __future__ import division, print_function\n",
    "import numpy as np\n",
    "import matplotlib.pyplot as plt\n",
    "\n",
    "#Load data set\n",
    "Angle, Power = np.loadtxt('group4.txt', skiprows=3, comments='#', unpack=True)\n",
    "Pcold = -23.240 #mdB +- 0.002\n",
    "Phot = -20.460 #mdB +- 0.002\n",
    "Thot = 5.6+273.16 #K +-0.05?\n",
    "Tcold = 77.355 #k\n",
    "Z_Angle = Angle-90\n",
    "Phot2 = 10**(Phot/10)/1000  # From db to watt\n",
    "Pcold2 = 10**(Pcold/10)/1000  # From db to watt\n",
    "Power_watt = 10**(Power/10)/1000\n",
    "\n",
    "#constants\n",
    "Delta_nu = 1*10**9\n",
    "T_R = 145.93\n",
    "k = 1.3806*10**(-23)\n",
    "Tau_zen = 0.01 \n",
    "\n",
    "#Calculated values\n",
    "y = (10**(Phot/10))/(10**(Pcold/10))  # y factor\n",
    "print('y =',y)\n",
    "Trcvr = (Thot-(Tcold*y))/(y-1)\n",
    "print('Trcvr =',Trcvr, 'K')\n",
    "\n",
    "Gain = Phot2 / ((Thot+Trcvr)*k*Delta_nu)\n",
    "print(Gain,'Gain in watts')\n",
    "Gain_Dbm = 10*np.log10(1000*Gain) #From watt to db\n",
    "print(Gain_Dbm, 'gain in Dbm')\n",
    "\n",
    "Tsys = Power_watt/(k*Delta_nu*Gain)\n",
    "#Gain_c = Pcold / ((Tcold+Trcvr)*k*delta_nu)\n",
    "#print(Gain_c)\n",
    "#Ptot = 10**((Power-30)/10) #Watts\n",
    "\n",
    "\n",
    "\n",
    "fig = plt.figure()\n",
    "frame1 = fig.add_subplot(1,1,1)\n",
    "\n",
    "frame1.set_title(\"System temperature as a function of Zenith temperature\")    \n",
    "frame1.set_xlabel('# Angle (deg)')\n",
    "frame1.set_ylabel('Power (dBm)')\n",
    "\n",
    "frame1.plot(Z_Angle,Tsys, c='r', label='Measurements')\n",
    "frame1.axhline(Trcvr, c='b', label='Receiver Temperature')\n",
    "\n",
    "leg = frame1.legend()\n",
    "\n",
    "plt.show()\n",
    "\n",
    "#\"\"\"\n",
    "#Gain Directivity = 4*pi / d ohm) \n",
    "#Fit guassian, Find Gain of the horn\n",
    "#\"\"\""
   ]
  },
  {
   "cell_type": "code",
   "execution_count": null,
   "metadata": {
    "collapsed": false,
    "deletable": true,
    "editable": true
   },
   "outputs": [],
   "source": [
    "p[mW]= 10**([dBmW/10])\n",
    "\n"
   ]
  },
  {
   "cell_type": "code",
   "execution_count": null,
   "metadata": {
    "collapsed": true,
    "deletable": true,
    "editable": true
   },
   "outputs": [],
   "source": []
  }
 ],
 "metadata": {
  "anaconda-cloud": {},
  "kernelspec": {
   "display_name": "Python [conda env:4.2.0]",
   "language": "python",
   "name": "conda-env-4.2.0-py"
  },
  "language_info": {
   "codemirror_mode": {
    "name": "ipython",
    "version": 3
   },
   "file_extension": ".py",
   "mimetype": "text/x-python",
   "name": "python",
   "nbconvert_exporter": "python",
   "pygments_lexer": "ipython3",
   "version": "3.5.2"
  }
 },
 "nbformat": 4,
 "nbformat_minor": 0
}
